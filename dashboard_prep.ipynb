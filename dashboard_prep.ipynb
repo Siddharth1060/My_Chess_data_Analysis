{
 "cells": [
  {
   "cell_type": "code",
   "execution_count": 1,
   "id": "7a52a8c3",
   "metadata": {},
   "outputs": [],
   "source": [
    "import pandas as pd\n",
    "import numpy as np\n",
    "import matplotlib.pyplot as py\n",
    "import seaborn as sns"
   ]
  },
  {
   "cell_type": "code",
   "execution_count": 2,
   "id": "ac602e04",
   "metadata": {},
   "outputs": [
    {
     "name": "stderr",
     "output_type": "stream",
     "text": [
      "c:\\users\\sidy boy!\\appdata\\local\\programs\\python\\python39\\lib\\site-packages\\IPython\\core\\interactiveshell.py:3169: DtypeWarning: Columns (16) have mixed types.Specify dtype option on import or set low_memory=False.\n",
      "  has_raised = await self.run_ast_nodes(code_ast.body, cell_name,\n"
     ]
    }
   ],
   "source": [
    "df= pd.read_csv('my_game_data.csv')"
   ]
  },
  {
   "cell_type": "code",
   "execution_count": 3,
   "id": "032fbb4d",
   "metadata": {},
   "outputs": [
    {
     "data": {
      "text/html": [
       "<div>\n",
       "<style scoped>\n",
       "    .dataframe tbody tr th:only-of-type {\n",
       "        vertical-align: middle;\n",
       "    }\n",
       "\n",
       "    .dataframe tbody tr th {\n",
       "        vertical-align: top;\n",
       "    }\n",
       "\n",
       "    .dataframe thead th {\n",
       "        text-align: right;\n",
       "    }\n",
       "</style>\n",
       "<table border=\"1\" class=\"dataframe\">\n",
       "  <thead>\n",
       "    <tr style=\"text-align: right;\">\n",
       "      <th></th>\n",
       "      <th>Unnamed: 0</th>\n",
       "      <th>Event</th>\n",
       "      <th>Site</th>\n",
       "      <th>Date</th>\n",
       "      <th>Round</th>\n",
       "      <th>White</th>\n",
       "      <th>Black</th>\n",
       "      <th>Result</th>\n",
       "      <th>CurrentPosition</th>\n",
       "      <th>Timezone</th>\n",
       "      <th>...</th>\n",
       "      <th>WhiteELO</th>\n",
       "      <th>BlackELO</th>\n",
       "      <th>Timecontrol</th>\n",
       "      <th>Termination</th>\n",
       "      <th>StartTime</th>\n",
       "      <th>EndDate</th>\n",
       "      <th>EndTime</th>\n",
       "      <th>Link</th>\n",
       "      <th>whitemoves</th>\n",
       "      <th>blackmoves</th>\n",
       "    </tr>\n",
       "  </thead>\n",
       "  <tbody>\n",
       "    <tr>\n",
       "      <th>0</th>\n",
       "      <td>0</td>\n",
       "      <td>Live Chess</td>\n",
       "      <td>Chess.com</td>\n",
       "      <td>2021.12.31</td>\n",
       "      <td>-</td>\n",
       "      <td>Dope_guru</td>\n",
       "      <td>The-Shire-Reeve</td>\n",
       "      <td>1-0</td>\n",
       "      <td>r3k2r/1p2Q1pp/p7/4R3/1n1p4/1B1q2Pb/PP3P1P/R1B3...</td>\n",
       "      <td>UTC</td>\n",
       "      <td>...</td>\n",
       "      <td>533</td>\n",
       "      <td>516</td>\n",
       "      <td>600</td>\n",
       "      <td>Dope_guru won by checkmate</td>\n",
       "      <td>21:50:48</td>\n",
       "      <td>2021.12.31</td>\n",
       "      <td>21:58:11</td>\n",
       "      <td>https://www.chess.com/game/live/34726271105</td>\n",
       "      <td>e4</td>\n",
       "      <td>e5</td>\n",
       "    </tr>\n",
       "    <tr>\n",
       "      <th>1</th>\n",
       "      <td>1</td>\n",
       "      <td>Live Chess</td>\n",
       "      <td>Chess.com</td>\n",
       "      <td>2021.12.31</td>\n",
       "      <td>-</td>\n",
       "      <td>Dope_guru</td>\n",
       "      <td>The-Shire-Reeve</td>\n",
       "      <td>1-0</td>\n",
       "      <td>r3k2r/1p2Q1pp/p7/4R3/1n1p4/1B1q2Pb/PP3P1P/R1B3...</td>\n",
       "      <td>UTC</td>\n",
       "      <td>...</td>\n",
       "      <td>533</td>\n",
       "      <td>516</td>\n",
       "      <td>600</td>\n",
       "      <td>Dope_guru won by checkmate</td>\n",
       "      <td>21:50:48</td>\n",
       "      <td>2021.12.31</td>\n",
       "      <td>21:58:11</td>\n",
       "      <td>https://www.chess.com/game/live/34726271105</td>\n",
       "      <td>Nf3</td>\n",
       "      <td>Nc6</td>\n",
       "    </tr>\n",
       "    <tr>\n",
       "      <th>2</th>\n",
       "      <td>2</td>\n",
       "      <td>Live Chess</td>\n",
       "      <td>Chess.com</td>\n",
       "      <td>2021.12.31</td>\n",
       "      <td>-</td>\n",
       "      <td>Dope_guru</td>\n",
       "      <td>The-Shire-Reeve</td>\n",
       "      <td>1-0</td>\n",
       "      <td>r3k2r/1p2Q1pp/p7/4R3/1n1p4/1B1q2Pb/PP3P1P/R1B3...</td>\n",
       "      <td>UTC</td>\n",
       "      <td>...</td>\n",
       "      <td>533</td>\n",
       "      <td>516</td>\n",
       "      <td>600</td>\n",
       "      <td>Dope_guru won by checkmate</td>\n",
       "      <td>21:50:48</td>\n",
       "      <td>2021.12.31</td>\n",
       "      <td>21:58:11</td>\n",
       "      <td>https://www.chess.com/game/live/34726271105</td>\n",
       "      <td>Bb5</td>\n",
       "      <td>a6</td>\n",
       "    </tr>\n",
       "    <tr>\n",
       "      <th>3</th>\n",
       "      <td>3</td>\n",
       "      <td>Live Chess</td>\n",
       "      <td>Chess.com</td>\n",
       "      <td>2021.12.31</td>\n",
       "      <td>-</td>\n",
       "      <td>Dope_guru</td>\n",
       "      <td>The-Shire-Reeve</td>\n",
       "      <td>1-0</td>\n",
       "      <td>r3k2r/1p2Q1pp/p7/4R3/1n1p4/1B1q2Pb/PP3P1P/R1B3...</td>\n",
       "      <td>UTC</td>\n",
       "      <td>...</td>\n",
       "      <td>533</td>\n",
       "      <td>516</td>\n",
       "      <td>600</td>\n",
       "      <td>Dope_guru won by checkmate</td>\n",
       "      <td>21:50:48</td>\n",
       "      <td>2021.12.31</td>\n",
       "      <td>21:58:11</td>\n",
       "      <td>https://www.chess.com/game/live/34726271105</td>\n",
       "      <td>Bd3</td>\n",
       "      <td>Nf6</td>\n",
       "    </tr>\n",
       "    <tr>\n",
       "      <th>4</th>\n",
       "      <td>4</td>\n",
       "      <td>Live Chess</td>\n",
       "      <td>Chess.com</td>\n",
       "      <td>2021.12.31</td>\n",
       "      <td>-</td>\n",
       "      <td>Dope_guru</td>\n",
       "      <td>The-Shire-Reeve</td>\n",
       "      <td>1-0</td>\n",
       "      <td>r3k2r/1p2Q1pp/p7/4R3/1n1p4/1B1q2Pb/PP3P1P/R1B3...</td>\n",
       "      <td>UTC</td>\n",
       "      <td>...</td>\n",
       "      <td>533</td>\n",
       "      <td>516</td>\n",
       "      <td>600</td>\n",
       "      <td>Dope_guru won by checkmate</td>\n",
       "      <td>21:50:48</td>\n",
       "      <td>2021.12.31</td>\n",
       "      <td>21:58:11</td>\n",
       "      <td>https://www.chess.com/game/live/34726271105</td>\n",
       "      <td>O-O</td>\n",
       "      <td>d5</td>\n",
       "    </tr>\n",
       "    <tr>\n",
       "      <th>...</th>\n",
       "      <td>...</td>\n",
       "      <td>...</td>\n",
       "      <td>...</td>\n",
       "      <td>...</td>\n",
       "      <td>...</td>\n",
       "      <td>...</td>\n",
       "      <td>...</td>\n",
       "      <td>...</td>\n",
       "      <td>...</td>\n",
       "      <td>...</td>\n",
       "      <td>...</td>\n",
       "      <td>...</td>\n",
       "      <td>...</td>\n",
       "      <td>...</td>\n",
       "      <td>...</td>\n",
       "      <td>...</td>\n",
       "      <td>...</td>\n",
       "      <td>...</td>\n",
       "      <td>...</td>\n",
       "      <td>...</td>\n",
       "      <td>...</td>\n",
       "    </tr>\n",
       "    <tr>\n",
       "      <th>39416</th>\n",
       "      <td>27</td>\n",
       "      <td>Live Chess</td>\n",
       "      <td>Chess.com</td>\n",
       "      <td>2023.03.01</td>\n",
       "      <td>-</td>\n",
       "      <td>Dope_guru</td>\n",
       "      <td>kubson2115</td>\n",
       "      <td>0-1</td>\n",
       "      <td>5rk1/1pr4p/p4p2/4pn2/PP1pN3/7P/5P2/1R1R2K1 w - -</td>\n",
       "      <td>UTC</td>\n",
       "      <td>...</td>\n",
       "      <td>935</td>\n",
       "      <td>984</td>\n",
       "      <td>600</td>\n",
       "      <td>kubson2115 won on time</td>\n",
       "      <td>22:02:49</td>\n",
       "      <td>2023.03.01</td>\n",
       "      <td>22:18:17</td>\n",
       "      <td>https://www.chess.com/game/live/71447141387</td>\n",
       "      <td>Nc3</td>\n",
       "      <td>d4</td>\n",
       "    </tr>\n",
       "    <tr>\n",
       "      <th>39417</th>\n",
       "      <td>28</td>\n",
       "      <td>Live Chess</td>\n",
       "      <td>Chess.com</td>\n",
       "      <td>2023.03.01</td>\n",
       "      <td>-</td>\n",
       "      <td>Dope_guru</td>\n",
       "      <td>kubson2115</td>\n",
       "      <td>0-1</td>\n",
       "      <td>5rk1/1pr4p/p4p2/4pn2/PP1pN3/7P/5P2/1R1R2K1 w - -</td>\n",
       "      <td>UTC</td>\n",
       "      <td>...</td>\n",
       "      <td>935</td>\n",
       "      <td>984</td>\n",
       "      <td>600</td>\n",
       "      <td>kubson2115 won on time</td>\n",
       "      <td>22:02:49</td>\n",
       "      <td>2023.03.01</td>\n",
       "      <td>22:18:17</td>\n",
       "      <td>https://www.chess.com/game/live/71447141387</td>\n",
       "      <td>Ne4</td>\n",
       "      <td>Re6</td>\n",
       "    </tr>\n",
       "    <tr>\n",
       "      <th>39418</th>\n",
       "      <td>29</td>\n",
       "      <td>Live Chess</td>\n",
       "      <td>Chess.com</td>\n",
       "      <td>2023.03.01</td>\n",
       "      <td>-</td>\n",
       "      <td>Dope_guru</td>\n",
       "      <td>kubson2115</td>\n",
       "      <td>0-1</td>\n",
       "      <td>5rk1/1pr4p/p4p2/4pn2/PP1pN3/7P/5P2/1R1R2K1 w - -</td>\n",
       "      <td>UTC</td>\n",
       "      <td>...</td>\n",
       "      <td>935</td>\n",
       "      <td>984</td>\n",
       "      <td>600</td>\n",
       "      <td>kubson2115 won on time</td>\n",
       "      <td>22:02:49</td>\n",
       "      <td>2023.03.01</td>\n",
       "      <td>22:18:17</td>\n",
       "      <td>https://www.chess.com/game/live/71447141387</td>\n",
       "      <td>Nc5</td>\n",
       "      <td>Re7</td>\n",
       "    </tr>\n",
       "    <tr>\n",
       "      <th>39419</th>\n",
       "      <td>30</td>\n",
       "      <td>Live Chess</td>\n",
       "      <td>Chess.com</td>\n",
       "      <td>2023.03.01</td>\n",
       "      <td>-</td>\n",
       "      <td>Dope_guru</td>\n",
       "      <td>kubson2115</td>\n",
       "      <td>0-1</td>\n",
       "      <td>5rk1/1pr4p/p4p2/4pn2/PP1pN3/7P/5P2/1R1R2K1 w - -</td>\n",
       "      <td>UTC</td>\n",
       "      <td>...</td>\n",
       "      <td>935</td>\n",
       "      <td>984</td>\n",
       "      <td>600</td>\n",
       "      <td>kubson2115 won on time</td>\n",
       "      <td>22:02:49</td>\n",
       "      <td>2023.03.01</td>\n",
       "      <td>22:18:17</td>\n",
       "      <td>https://www.chess.com/game/live/71447141387</td>\n",
       "      <td>Ne4</td>\n",
       "      <td>Rf8</td>\n",
       "    </tr>\n",
       "    <tr>\n",
       "      <th>39420</th>\n",
       "      <td>31</td>\n",
       "      <td>Live Chess</td>\n",
       "      <td>Chess.com</td>\n",
       "      <td>2023.03.01</td>\n",
       "      <td>-</td>\n",
       "      <td>Dope_guru</td>\n",
       "      <td>kubson2115</td>\n",
       "      <td>0-1</td>\n",
       "      <td>5rk1/1pr4p/p4p2/4pn2/PP1pN3/7P/5P2/1R1R2K1 w - -</td>\n",
       "      <td>UTC</td>\n",
       "      <td>...</td>\n",
       "      <td>935</td>\n",
       "      <td>984</td>\n",
       "      <td>600</td>\n",
       "      <td>kubson2115 won on time</td>\n",
       "      <td>22:02:49</td>\n",
       "      <td>2023.03.01</td>\n",
       "      <td>22:18:17</td>\n",
       "      <td>https://www.chess.com/game/live/71447141387</td>\n",
       "      <td>a4</td>\n",
       "      <td>Rc7</td>\n",
       "    </tr>\n",
       "  </tbody>\n",
       "</table>\n",
       "<p>39421 rows × 24 columns</p>\n",
       "</div>"
      ],
      "text/plain": [
       "       Unnamed: 0       Event       Site        Date Round      White  \\\n",
       "0               0  Live Chess  Chess.com  2021.12.31     -  Dope_guru   \n",
       "1               1  Live Chess  Chess.com  2021.12.31     -  Dope_guru   \n",
       "2               2  Live Chess  Chess.com  2021.12.31     -  Dope_guru   \n",
       "3               3  Live Chess  Chess.com  2021.12.31     -  Dope_guru   \n",
       "4               4  Live Chess  Chess.com  2021.12.31     -  Dope_guru   \n",
       "...           ...         ...        ...         ...   ...        ...   \n",
       "39416          27  Live Chess  Chess.com  2023.03.01     -  Dope_guru   \n",
       "39417          28  Live Chess  Chess.com  2023.03.01     -  Dope_guru   \n",
       "39418          29  Live Chess  Chess.com  2023.03.01     -  Dope_guru   \n",
       "39419          30  Live Chess  Chess.com  2023.03.01     -  Dope_guru   \n",
       "39420          31  Live Chess  Chess.com  2023.03.01     -  Dope_guru   \n",
       "\n",
       "                 Black Result  \\\n",
       "0      The-Shire-Reeve    1-0   \n",
       "1      The-Shire-Reeve    1-0   \n",
       "2      The-Shire-Reeve    1-0   \n",
       "3      The-Shire-Reeve    1-0   \n",
       "4      The-Shire-Reeve    1-0   \n",
       "...                ...    ...   \n",
       "39416       kubson2115    0-1   \n",
       "39417       kubson2115    0-1   \n",
       "39418       kubson2115    0-1   \n",
       "39419       kubson2115    0-1   \n",
       "39420       kubson2115    0-1   \n",
       "\n",
       "                                         CurrentPosition Timezone  ...  \\\n",
       "0      r3k2r/1p2Q1pp/p7/4R3/1n1p4/1B1q2Pb/PP3P1P/R1B3...      UTC  ...   \n",
       "1      r3k2r/1p2Q1pp/p7/4R3/1n1p4/1B1q2Pb/PP3P1P/R1B3...      UTC  ...   \n",
       "2      r3k2r/1p2Q1pp/p7/4R3/1n1p4/1B1q2Pb/PP3P1P/R1B3...      UTC  ...   \n",
       "3      r3k2r/1p2Q1pp/p7/4R3/1n1p4/1B1q2Pb/PP3P1P/R1B3...      UTC  ...   \n",
       "4      r3k2r/1p2Q1pp/p7/4R3/1n1p4/1B1q2Pb/PP3P1P/R1B3...      UTC  ...   \n",
       "...                                                  ...      ...  ...   \n",
       "39416   5rk1/1pr4p/p4p2/4pn2/PP1pN3/7P/5P2/1R1R2K1 w - -      UTC  ...   \n",
       "39417   5rk1/1pr4p/p4p2/4pn2/PP1pN3/7P/5P2/1R1R2K1 w - -      UTC  ...   \n",
       "39418   5rk1/1pr4p/p4p2/4pn2/PP1pN3/7P/5P2/1R1R2K1 w - -      UTC  ...   \n",
       "39419   5rk1/1pr4p/p4p2/4pn2/PP1pN3/7P/5P2/1R1R2K1 w - -      UTC  ...   \n",
       "39420   5rk1/1pr4p/p4p2/4pn2/PP1pN3/7P/5P2/1R1R2K1 w - -      UTC  ...   \n",
       "\n",
       "      WhiteELO BlackELO Timecontrol                 Termination  StartTime  \\\n",
       "0          533      516         600  Dope_guru won by checkmate   21:50:48   \n",
       "1          533      516         600  Dope_guru won by checkmate   21:50:48   \n",
       "2          533      516         600  Dope_guru won by checkmate   21:50:48   \n",
       "3          533      516         600  Dope_guru won by checkmate   21:50:48   \n",
       "4          533      516         600  Dope_guru won by checkmate   21:50:48   \n",
       "...        ...      ...         ...                         ...        ...   \n",
       "39416      935      984         600      kubson2115 won on time   22:02:49   \n",
       "39417      935      984         600      kubson2115 won on time   22:02:49   \n",
       "39418      935      984         600      kubson2115 won on time   22:02:49   \n",
       "39419      935      984         600      kubson2115 won on time   22:02:49   \n",
       "39420      935      984         600      kubson2115 won on time   22:02:49   \n",
       "\n",
       "          EndDate   EndTime                                         Link  \\\n",
       "0      2021.12.31  21:58:11  https://www.chess.com/game/live/34726271105   \n",
       "1      2021.12.31  21:58:11  https://www.chess.com/game/live/34726271105   \n",
       "2      2021.12.31  21:58:11  https://www.chess.com/game/live/34726271105   \n",
       "3      2021.12.31  21:58:11  https://www.chess.com/game/live/34726271105   \n",
       "4      2021.12.31  21:58:11  https://www.chess.com/game/live/34726271105   \n",
       "...           ...       ...                                          ...   \n",
       "39416  2023.03.01  22:18:17  https://www.chess.com/game/live/71447141387   \n",
       "39417  2023.03.01  22:18:17  https://www.chess.com/game/live/71447141387   \n",
       "39418  2023.03.01  22:18:17  https://www.chess.com/game/live/71447141387   \n",
       "39419  2023.03.01  22:18:17  https://www.chess.com/game/live/71447141387   \n",
       "39420  2023.03.01  22:18:17  https://www.chess.com/game/live/71447141387   \n",
       "\n",
       "      whitemoves blackmoves  \n",
       "0             e4         e5  \n",
       "1            Nf3        Nc6  \n",
       "2            Bb5         a6  \n",
       "3            Bd3        Nf6  \n",
       "4            O-O         d5  \n",
       "...          ...        ...  \n",
       "39416        Nc3         d4  \n",
       "39417        Ne4        Re6  \n",
       "39418        Nc5        Re7  \n",
       "39419        Ne4        Rf8  \n",
       "39420         a4        Rc7  \n",
       "\n",
       "[39421 rows x 24 columns]"
      ]
     },
     "execution_count": 3,
     "metadata": {},
     "output_type": "execute_result"
    }
   ],
   "source": [
    "df"
   ]
  },
  {
   "cell_type": "markdown",
   "id": "ce43934e",
   "metadata": {},
   "source": [
    "#### MyELO"
   ]
  },
  {
   "cell_type": "code",
   "execution_count": 4,
   "id": "53be79bc",
   "metadata": {},
   "outputs": [],
   "source": [
    "df.loc[(df.White == 'Dope_guru'),'MyELO']= df.WhiteELO\n",
    "df.loc[(df.Black == 'Dope_guru'),'MyELO']= df.BlackELO"
   ]
  },
  {
   "cell_type": "code",
   "execution_count": 5,
   "id": "1f198ea0",
   "metadata": {},
   "outputs": [],
   "source": [
    "df.MyELO= df.MyELO.astype(int)"
   ]
  },
  {
   "cell_type": "code",
   "execution_count": 6,
   "id": "a779e2b2",
   "metadata": {},
   "outputs": [
    {
     "data": {
      "text/plain": [
       "1017"
      ]
     },
     "execution_count": 6,
     "metadata": {},
     "output_type": "execute_result"
    }
   ],
   "source": [
    "df.MyELO.max()"
   ]
  },
  {
   "cell_type": "markdown",
   "id": "7dae5dd6",
   "metadata": {},
   "source": [
    "#### OpponentELO"
   ]
  },
  {
   "cell_type": "code",
   "execution_count": 7,
   "id": "85d6bf37",
   "metadata": {},
   "outputs": [],
   "source": [
    "df.loc[(df.White != 'Dope_guru'),'OpponentELO']= df.WhiteELO\n",
    "df.loc[(df.Black != 'Dope_guru'),'OpponentELO']= df.BlackELO"
   ]
  },
  {
   "cell_type": "code",
   "execution_count": 8,
   "id": "bce8838f",
   "metadata": {},
   "outputs": [],
   "source": [
    "df.OpponentELO = df.OpponentELO.astype(int)"
   ]
  },
  {
   "cell_type": "markdown",
   "id": "099520bc",
   "metadata": {},
   "source": [
    "#### MyColor"
   ]
  },
  {
   "cell_type": "code",
   "execution_count": 9,
   "id": "0f3aeefa",
   "metadata": {},
   "outputs": [],
   "source": [
    "df.loc[(df.White == 'Dope_guru'), 'Mycolor']= 'White'"
   ]
  },
  {
   "cell_type": "code",
   "execution_count": 10,
   "id": "255a201a",
   "metadata": {},
   "outputs": [],
   "source": [
    "df.Mycolor.replace(np.nan, 'Black', inplace=True)"
   ]
  },
  {
   "cell_type": "markdown",
   "id": "680baca0",
   "metadata": {},
   "source": [
    "#### Opponent"
   ]
  },
  {
   "cell_type": "code",
   "execution_count": 11,
   "id": "c12e0624",
   "metadata": {},
   "outputs": [],
   "source": [
    "df.loc[(df.White != 'Dope_guru'), 'Opponentcolor']= 'White'"
   ]
  },
  {
   "cell_type": "code",
   "execution_count": 12,
   "id": "455f69ae",
   "metadata": {},
   "outputs": [],
   "source": [
    "df.Opponentcolor.replace(np.nan, 'Black', inplace=True)"
   ]
  },
  {
   "cell_type": "markdown",
   "id": "d31e62a5",
   "metadata": {},
   "source": [
    "#### Result"
   ]
  },
  {
   "cell_type": "code",
   "execution_count": 13,
   "id": "163025dd",
   "metadata": {
    "scrolled": true
   },
   "outputs": [
    {
     "data": {
      "text/plain": [
       "1-0        19415\n",
       "0-1        18366\n",
       "1/2-1/2     1640\n",
       "Name: Result, dtype: int64"
      ]
     },
     "execution_count": 13,
     "metadata": {},
     "output_type": "execute_result"
    }
   ],
   "source": [
    "df.Result.value_counts()"
   ]
  },
  {
   "cell_type": "code",
   "execution_count": 14,
   "id": "0d07b4bf",
   "metadata": {},
   "outputs": [],
   "source": [
    "df.Result.replace('1-0', 'Won', inplace=True)\n",
    "df.Result.replace('0-1','Lost', inplace=True)\n",
    "df.Result.replace('1/2-1/2', 'Draw', inplace=True)"
   ]
  },
  {
   "cell_type": "code",
   "execution_count": 15,
   "id": "99a055c7",
   "metadata": {},
   "outputs": [],
   "source": [
    "df.loc[(df.Termination.str.contains('draw',case=False)),'MyResult']= 'Draw'\n",
    "df.loc[(df.Termination.str.contains('Dope_guru won', case=False)),'MyResult']= 'Won'\n",
    "df.MyResult.replace(np.nan,'Lost', inplace= True)"
   ]
  },
  {
   "cell_type": "code",
   "execution_count": 16,
   "id": "38d29230",
   "metadata": {},
   "outputs": [
    {
     "data": {
      "text/plain": [
       "Lost    21252\n",
       "Won     16529\n",
       "Draw     1640\n",
       "Name: MyResult, dtype: int64"
      ]
     },
     "execution_count": 16,
     "metadata": {},
     "output_type": "execute_result"
    }
   ],
   "source": [
    "df.MyResult.value_counts()"
   ]
  },
  {
   "cell_type": "markdown",
   "id": "d1d185a4",
   "metadata": {},
   "source": [
    "#### Result.. How?: Termination"
   ]
  },
  {
   "cell_type": "code",
   "execution_count": 17,
   "id": "81379a5b",
   "metadata": {},
   "outputs": [
    {
     "data": {
      "text/plain": [
       "Dope_guru won by checkmate         8894\n",
       "Dope_guru won by resignation       5093\n",
       "Dope_guru won on time              1615\n",
       "Dope_guru won - game abandoned      927\n",
       "Game drawn by stalemate             610\n",
       "                                   ... \n",
       "vishri won by checkmate               4\n",
       "bbbbenniejets won by checkmate        4\n",
       "vpatil216 won by checkmate            4\n",
       "oldambt won by checkmate              4\n",
       "freebobby444 won by resignation       3\n",
       "Name: Termination, Length: 597, dtype: int64"
      ]
     },
     "execution_count": 17,
     "metadata": {},
     "output_type": "execute_result"
    }
   ],
   "source": [
    "df.Termination.value_counts()"
   ]
  },
  {
   "cell_type": "code",
   "execution_count": 18,
   "id": "a334b47c",
   "metadata": {},
   "outputs": [],
   "source": [
    "df.Termination= df.Termination.str.split().str[-1]"
   ]
  },
  {
   "cell_type": "code",
   "execution_count": 19,
   "id": "0ac29960",
   "metadata": {},
   "outputs": [
    {
     "data": {
      "text/plain": [
       "checkmate      17664\n",
       "time           12416\n",
       "resignation     6722\n",
       "abandoned        979\n",
       "material         717\n",
       "stalemate        610\n",
       "repetition       313\n",
       "Name: Termination, dtype: int64"
      ]
     },
     "execution_count": 19,
     "metadata": {},
     "output_type": "execute_result"
    }
   ],
   "source": [
    "df.Termination.value_counts()"
   ]
  },
  {
   "cell_type": "code",
   "execution_count": 20,
   "id": "df0052c1",
   "metadata": {},
   "outputs": [
    {
     "data": {
      "text/plain": [
       "0        checkmate\n",
       "1        checkmate\n",
       "2        checkmate\n",
       "3        checkmate\n",
       "4        checkmate\n",
       "           ...    \n",
       "39416         time\n",
       "39417         time\n",
       "39418         time\n",
       "39419         time\n",
       "39420         time\n",
       "Name: Termination, Length: 39421, dtype: object"
      ]
     },
     "execution_count": 20,
     "metadata": {},
     "output_type": "execute_result"
    }
   ],
   "source": [
    "df.Termination"
   ]
  },
  {
   "cell_type": "markdown",
   "id": "b863af11",
   "metadata": {},
   "source": [
    "#### Opening: ECOURL"
   ]
  },
  {
   "cell_type": "code",
   "execution_count": 21,
   "id": "85006f90",
   "metadata": {},
   "outputs": [],
   "source": [
    "df['Opening'] = df.ECOURL.str.strip('https://www.chess.com/openings/')"
   ]
  },
  {
   "cell_type": "code",
   "execution_count": 22,
   "id": "c7a5ffc5",
   "metadata": {},
   "outputs": [
    {
     "data": {
      "text/plain": [
       "Scandinavian-Defense-2.e5                      2551\n",
       "Center-Ga                                      2222\n",
       "Nimzowitsch-Defense-Kennedy-Varia              1396\n",
       "Pirc-Defense-Maroczy-Def                       1238\n",
       "Scandinavian-Def                               1123\n",
       "                                               ... \n",
       "Van-Geet-Opening-Reversed-Nimzowitsch-Varia       5\n",
       "Englund-Gambit-2.dxe5                             3\n",
       "Scandinavian-Defense-Closed-2...dxe4-3.Nxe4       3\n",
       "Slav-Defense-3.e3                                 3\n",
       "Sicilian-Def                                      1\n",
       "Name: Opening, Length: 368, dtype: int64"
      ]
     },
     "execution_count": 22,
     "metadata": {},
     "output_type": "execute_result"
    }
   ],
   "source": [
    "df.Opening.value_counts()"
   ]
  },
  {
   "cell_type": "code",
   "execution_count": 23,
   "id": "b0a969df",
   "metadata": {},
   "outputs": [],
   "source": [
    "# drop : 'Site', 'Event', 'Round', 'Timezone', 'CurrentPosition', 'Date' link\n",
    "# feature engineer: ecourl utctime termination \"mycolor\" \"opponentcolor\" \"no of games in a day\"\n",
    "# rename : unnamed 0"
   ]
  },
  {
   "cell_type": "markdown",
   "id": "cd357083",
   "metadata": {},
   "source": [
    "#### Getting Unique Game ID: Link"
   ]
  },
  {
   "cell_type": "code",
   "execution_count": 24,
   "id": "aa08cacc",
   "metadata": {},
   "outputs": [],
   "source": [
    "df['GameID']= df.Link.str.strip('https://www.chess.com/game/live/')"
   ]
  },
  {
   "cell_type": "code",
   "execution_count": 25,
   "id": "eeb5accb",
   "metadata": {},
   "outputs": [
    {
     "data": {
      "text/plain": [
       "<bound method Series.unique of 70151729593    85\n",
       "71865940799    72\n",
       "63325172015    71\n",
       "35019588779    71\n",
       "71277956175    70\n",
       "               ..\n",
       "66085280483     1\n",
       "49420753825     1\n",
       "53923222325     1\n",
       "34413604729     1\n",
       "39041427303     1\n",
       "Name: GameID, Length: 1346, dtype: int64>"
      ]
     },
     "execution_count": 25,
     "metadata": {},
     "output_type": "execute_result"
    }
   ],
   "source": [
    "df.GameID.value_counts().unique"
   ]
  },
  {
   "cell_type": "markdown",
   "id": "7fd5ae2e",
   "metadata": {},
   "source": [
    "#### MyMoves:"
   ]
  },
  {
   "cell_type": "code",
   "execution_count": 26,
   "id": "45cfb7e7",
   "metadata": {},
   "outputs": [],
   "source": [
    "df.loc[(df.Mycolor== 'White'),'MyMoves']= df.whitemoves\n",
    "df.loc[(df.Mycolor=='Black'),'MyMoves']= df.blackmoves"
   ]
  },
  {
   "cell_type": "markdown",
   "id": "16e776ec",
   "metadata": {},
   "source": [
    "#### MyMoves analysis:"
   ]
  },
  {
   "cell_type": "code",
   "execution_count": 27,
   "id": "c649fd0b",
   "metadata": {},
   "outputs": [],
   "source": [
    "df['piece_moved']= df.MyMoves.str[:1]"
   ]
  },
  {
   "cell_type": "code",
   "execution_count": 28,
   "id": "5fd19f2f",
   "metadata": {},
   "outputs": [
    {
     "data": {
      "text/plain": [
       "N    7546\n",
       "B    6159\n",
       "Q    5856\n",
       "R    4947\n",
       "K    3701\n",
       "d    2286\n",
       "e    2257\n",
       "c    1234\n",
       "f     956\n",
       "O     872\n",
       "h     871\n",
       "b     842\n",
       "g     834\n",
       "a     700\n",
       "o     360\n",
       "Name: piece_moved, dtype: int64"
      ]
     },
     "execution_count": 28,
     "metadata": {},
     "output_type": "execute_result"
    }
   ],
   "source": [
    "df.piece_moved.value_counts()"
   ]
  },
  {
   "cell_type": "code",
   "execution_count": 29,
   "id": "b71e29b1",
   "metadata": {},
   "outputs": [
    {
     "data": {
      "text/plain": [
       "False    38693\n",
       "True       728\n",
       "Name: MyMoves, dtype: int64"
      ]
     },
     "execution_count": 29,
     "metadata": {},
     "output_type": "execute_result"
    }
   ],
   "source": [
    "(df.MyMoves== 'O-O').value_counts()"
   ]
  },
  {
   "cell_type": "code",
   "execution_count": 30,
   "id": "833bc211",
   "metadata": {},
   "outputs": [
    {
     "data": {
      "text/plain": [
       "False    39278\n",
       "True       143\n",
       "Name: MyMoves, dtype: int64"
      ]
     },
     "execution_count": 30,
     "metadata": {},
     "output_type": "execute_result"
    }
   ],
   "source": [
    "(df.MyMoves== 'O-O-O').value_counts()"
   ]
  },
  {
   "cell_type": "code",
   "execution_count": 31,
   "id": "9b76a4fc",
   "metadata": {},
   "outputs": [
    {
     "data": {
      "text/plain": [
       "5    6783\n",
       "4    6551\n",
       "6    5735\n",
       "3    5492\n",
       "+    3816\n",
       "7    2967\n",
       "2    2690\n",
       "8    1978\n",
       "1    1813\n",
       "O     871\n",
       "r     360\n",
       "#     302\n",
       "Q      63\n",
       "Name: MyMoves, dtype: int64"
      ]
     },
     "execution_count": 31,
     "metadata": {},
     "output_type": "execute_result"
    }
   ],
   "source": [
    "(df.MyMoves.str[-1]).value_counts()"
   ]
  },
  {
   "cell_type": "markdown",
   "id": "9af8934c",
   "metadata": {},
   "source": [
    "#### Playing Habbit by time: UTCTime"
   ]
  },
  {
   "cell_type": "code",
   "execution_count": 32,
   "id": "ab8eb95a",
   "metadata": {},
   "outputs": [],
   "source": [
    "df.UTCTime=pd.to_datetime(df['UTCTime'])"
   ]
  },
  {
   "cell_type": "code",
   "execution_count": 33,
   "id": "7568135b",
   "metadata": {},
   "outputs": [
    {
     "data": {
      "text/plain": [
       "0       2023-03-15 21:50:48\n",
       "1       2023-03-15 21:50:48\n",
       "2       2023-03-15 21:50:48\n",
       "3       2023-03-15 21:50:48\n",
       "4       2023-03-15 21:50:48\n",
       "                ...        \n",
       "39416   2023-03-15 22:02:49\n",
       "39417   2023-03-15 22:02:49\n",
       "39418   2023-03-15 22:02:49\n",
       "39419   2023-03-15 22:02:49\n",
       "39420   2023-03-15 22:02:49\n",
       "Name: UTCTime, Length: 39421, dtype: datetime64[ns]"
      ]
     },
     "execution_count": 33,
     "metadata": {},
     "output_type": "execute_result"
    }
   ],
   "source": [
    "df.UTCTime"
   ]
  },
  {
   "cell_type": "code",
   "execution_count": 34,
   "id": "4aff8861",
   "metadata": {},
   "outputs": [
    {
     "data": {
      "text/plain": [
       "21    2967\n",
       "22    2726\n",
       "20    2658\n",
       "5     2442\n",
       "6     2395\n",
       "0     2283\n",
       "23    2257\n",
       "1     2223\n",
       "18    2170\n",
       "3     2151\n",
       "4     2145\n",
       "19    1813\n",
       "7     1789\n",
       "17    1775\n",
       "2     1744\n",
       "8     1594\n",
       "16    1147\n",
       "15     969\n",
       "9      928\n",
       "10     448\n",
       "11     308\n",
       "14     257\n",
       "12     126\n",
       "13     106\n",
       "Name: UTCTime, dtype: int64"
      ]
     },
     "execution_count": 34,
     "metadata": {},
     "output_type": "execute_result"
    }
   ],
   "source": [
    "df.UTCTime.dt.hour.value_counts()"
   ]
  },
  {
   "cell_type": "code",
   "execution_count": 35,
   "id": "6477dcc2",
   "metadata": {},
   "outputs": [],
   "source": [
    "#converting UTC into CST as I was in Texas:"
   ]
  },
  {
   "cell_type": "code",
   "execution_count": 36,
   "id": "c44df2f3",
   "metadata": {},
   "outputs": [],
   "source": [
    "from datetime import datetime, timedelta"
   ]
  },
  {
   "cell_type": "code",
   "execution_count": 37,
   "id": "2a1d8951",
   "metadata": {},
   "outputs": [],
   "source": [
    "df['Time'] = df.UTCTime - timedelta(hours=5, minutes=0)"
   ]
  },
  {
   "cell_type": "code",
   "execution_count": 38,
   "id": "40c3a921",
   "metadata": {},
   "outputs": [
    {
     "data": {
      "text/plain": [
       "0       2023-03-15 16:50:48\n",
       "1       2023-03-15 16:50:48\n",
       "2       2023-03-15 16:50:48\n",
       "3       2023-03-15 16:50:48\n",
       "4       2023-03-15 16:50:48\n",
       "                ...        \n",
       "39416   2023-03-15 17:02:49\n",
       "39417   2023-03-15 17:02:49\n",
       "39418   2023-03-15 17:02:49\n",
       "39419   2023-03-15 17:02:49\n",
       "39420   2023-03-15 17:02:49\n",
       "Name: Time, Length: 39421, dtype: datetime64[ns]"
      ]
     },
     "execution_count": 38,
     "metadata": {},
     "output_type": "execute_result"
    }
   ],
   "source": [
    "df.Time"
   ]
  },
  {
   "cell_type": "code",
   "execution_count": 39,
   "id": "f16071e2",
   "metadata": {},
   "outputs": [],
   "source": [
    "df.Time=df.Time.dt.hour"
   ]
  },
  {
   "cell_type": "code",
   "execution_count": 40,
   "id": "d6950937",
   "metadata": {},
   "outputs": [
    {
     "data": {
      "text/plain": [
       "16    2967\n",
       "17    2726\n",
       "15    2658\n",
       "0     2442\n",
       "1     2395\n",
       "19    2283\n",
       "18    2257\n",
       "20    2223\n",
       "13    2170\n",
       "22    2151\n",
       "23    2145\n",
       "14    1813\n",
       "2     1789\n",
       "12    1775\n",
       "21    1744\n",
       "3     1594\n",
       "11    1147\n",
       "10     969\n",
       "4      928\n",
       "5      448\n",
       "6      308\n",
       "9      257\n",
       "7      126\n",
       "8      106\n",
       "Name: Time, dtype: int64"
      ]
     },
     "execution_count": 40,
     "metadata": {},
     "output_type": "execute_result"
    }
   ],
   "source": [
    "df.Time.value_counts()"
   ]
  },
  {
   "cell_type": "code",
   "execution_count": 41,
   "id": "63396cd4",
   "metadata": {},
   "outputs": [],
   "source": [
    "# 6-12  morning   6-11\n",
    "# 12-5  afternoon 12-16\n",
    "# 5-10 evening    17-21\n",
    "# 10-5 night      22-5: 39273-(2151+2145+2442+2364+1789+1594+928+448)\n"
   ]
  },
  {
   "cell_type": "code",
   "execution_count": 42,
   "id": "123a5069",
   "metadata": {},
   "outputs": [],
   "source": [
    "df.loc[((df.Time>5) & (df.Time<12)),'Timing']= 'morning'"
   ]
  },
  {
   "cell_type": "code",
   "execution_count": 43,
   "id": "9b509fca",
   "metadata": {},
   "outputs": [],
   "source": [
    "df.loc[((df.Time>11) & (df.Time<17)),'Timing']= 'after-noon'"
   ]
  },
  {
   "cell_type": "code",
   "execution_count": 44,
   "id": "4cf65b93",
   "metadata": {},
   "outputs": [],
   "source": [
    "df.loc[((df.Time>16) & (df.Time<22)),'Timing']= 'evening'"
   ]
  },
  {
   "cell_type": "code",
   "execution_count": 45,
   "id": "94a3b508",
   "metadata": {},
   "outputs": [],
   "source": [
    "df.Timing.replace(np.nan,'night',inplace=True)"
   ]
  },
  {
   "cell_type": "code",
   "execution_count": 46,
   "id": "4818db55",
   "metadata": {},
   "outputs": [
    {
     "data": {
      "text/plain": [
       "night         13892\n",
       "after-noon    11383\n",
       "evening       11233\n",
       "morning        2913\n",
       "Name: Timing, dtype: int64"
      ]
     },
     "execution_count": 46,
     "metadata": {},
     "output_type": "execute_result"
    }
   ],
   "source": [
    "df.Timing.value_counts()"
   ]
  },
  {
   "cell_type": "markdown",
   "id": "32e6becb",
   "metadata": {},
   "source": [
    "#### Dropping unneeded columns"
   ]
  },
  {
   "cell_type": "code",
   "execution_count": 47,
   "id": "1661ca2c",
   "metadata": {},
   "outputs": [],
   "source": [
    "df.drop(columns = ['Unnamed: 0', 'Link', 'Site', 'Event', 'Round', 'White', 'Black', 'Timezone', 'ECO', 'ECOURL','WhiteELO','BlackELO', 'CurrentPosition', 'Date', 'blackmoves', 'whitemoves', 'Timecontrol','EndDate','EndTime','UTCTime','Time','StartTime' ],inplace= True)"
   ]
  },
  {
   "cell_type": "code",
   "execution_count": 48,
   "id": "741e6488",
   "metadata": {},
   "outputs": [
    {
     "name": "stdout",
     "output_type": "stream",
     "text": [
      "<class 'pandas.core.frame.DataFrame'>\n",
      "RangeIndex: 39421 entries, 0 to 39420\n",
      "Data columns (total 13 columns):\n",
      " #   Column         Non-Null Count  Dtype \n",
      "---  ------         --------------  ----- \n",
      " 0   Result         39421 non-null  object\n",
      " 1   UTDate         39421 non-null  object\n",
      " 2   Termination    39421 non-null  object\n",
      " 3   MyELO          39421 non-null  int32 \n",
      " 4   OpponentELO    39421 non-null  int32 \n",
      " 5   Mycolor        39421 non-null  object\n",
      " 6   Opponentcolor  39421 non-null  object\n",
      " 7   MyResult       39421 non-null  object\n",
      " 8   Opening        39421 non-null  object\n",
      " 9   GameID         39421 non-null  object\n",
      " 10  MyMoves        39421 non-null  object\n",
      " 11  piece_moved    39421 non-null  object\n",
      " 12  Timing         39421 non-null  object\n",
      "dtypes: int32(2), object(11)\n",
      "memory usage: 3.6+ MB\n"
     ]
    }
   ],
   "source": [
    "df.info()"
   ]
  },
  {
   "cell_type": "markdown",
   "id": "d7c23ae3",
   "metadata": {},
   "source": [
    "###  Dataframe for Piece move:"
   ]
  },
  {
   "cell_type": "code",
   "execution_count": 49,
   "id": "8a6ef04a",
   "metadata": {},
   "outputs": [],
   "source": [
    "Moves_df= pd.DataFrame()"
   ]
  },
  {
   "cell_type": "code",
   "execution_count": 50,
   "id": "3891a7bc",
   "metadata": {},
   "outputs": [],
   "source": [
    "Moves_df= pd.concat([df.GameID,df.MyMoves, df.piece_moved], axis=1)"
   ]
  },
  {
   "cell_type": "code",
   "execution_count": 51,
   "id": "963577ce",
   "metadata": {},
   "outputs": [
    {
     "data": {
      "text/html": [
       "<div>\n",
       "<style scoped>\n",
       "    .dataframe tbody tr th:only-of-type {\n",
       "        vertical-align: middle;\n",
       "    }\n",
       "\n",
       "    .dataframe tbody tr th {\n",
       "        vertical-align: top;\n",
       "    }\n",
       "\n",
       "    .dataframe thead th {\n",
       "        text-align: right;\n",
       "    }\n",
       "</style>\n",
       "<table border=\"1\" class=\"dataframe\">\n",
       "  <thead>\n",
       "    <tr style=\"text-align: right;\">\n",
       "      <th></th>\n",
       "      <th>GameID</th>\n",
       "      <th>MyMoves</th>\n",
       "      <th>piece_moved</th>\n",
       "    </tr>\n",
       "  </thead>\n",
       "  <tbody>\n",
       "    <tr>\n",
       "      <th>0</th>\n",
       "      <td>34726271105</td>\n",
       "      <td>e4</td>\n",
       "      <td>e</td>\n",
       "    </tr>\n",
       "    <tr>\n",
       "      <th>1</th>\n",
       "      <td>34726271105</td>\n",
       "      <td>Nf3</td>\n",
       "      <td>N</td>\n",
       "    </tr>\n",
       "    <tr>\n",
       "      <th>2</th>\n",
       "      <td>34726271105</td>\n",
       "      <td>Bb5</td>\n",
       "      <td>B</td>\n",
       "    </tr>\n",
       "    <tr>\n",
       "      <th>3</th>\n",
       "      <td>34726271105</td>\n",
       "      <td>Bd3</td>\n",
       "      <td>B</td>\n",
       "    </tr>\n",
       "    <tr>\n",
       "      <th>4</th>\n",
       "      <td>34726271105</td>\n",
       "      <td>O-O</td>\n",
       "      <td>O</td>\n",
       "    </tr>\n",
       "    <tr>\n",
       "      <th>...</th>\n",
       "      <td>...</td>\n",
       "      <td>...</td>\n",
       "      <td>...</td>\n",
       "    </tr>\n",
       "    <tr>\n",
       "      <th>39416</th>\n",
       "      <td>71447141387</td>\n",
       "      <td>Nc3</td>\n",
       "      <td>N</td>\n",
       "    </tr>\n",
       "    <tr>\n",
       "      <th>39417</th>\n",
       "      <td>71447141387</td>\n",
       "      <td>Ne4</td>\n",
       "      <td>N</td>\n",
       "    </tr>\n",
       "    <tr>\n",
       "      <th>39418</th>\n",
       "      <td>71447141387</td>\n",
       "      <td>Nc5</td>\n",
       "      <td>N</td>\n",
       "    </tr>\n",
       "    <tr>\n",
       "      <th>39419</th>\n",
       "      <td>71447141387</td>\n",
       "      <td>Ne4</td>\n",
       "      <td>N</td>\n",
       "    </tr>\n",
       "    <tr>\n",
       "      <th>39420</th>\n",
       "      <td>71447141387</td>\n",
       "      <td>a4</td>\n",
       "      <td>a</td>\n",
       "    </tr>\n",
       "  </tbody>\n",
       "</table>\n",
       "<p>39421 rows × 3 columns</p>\n",
       "</div>"
      ],
      "text/plain": [
       "            GameID MyMoves piece_moved\n",
       "0      34726271105      e4           e\n",
       "1      34726271105     Nf3           N\n",
       "2      34726271105     Bb5           B\n",
       "3      34726271105     Bd3           B\n",
       "4      34726271105     O-O           O\n",
       "...            ...     ...         ...\n",
       "39416  71447141387     Nc3           N\n",
       "39417  71447141387     Ne4           N\n",
       "39418  71447141387     Nc5           N\n",
       "39419  71447141387     Ne4           N\n",
       "39420  71447141387      a4           a\n",
       "\n",
       "[39421 rows x 3 columns]"
      ]
     },
     "execution_count": 51,
     "metadata": {},
     "output_type": "execute_result"
    }
   ],
   "source": [
    "Moves_df"
   ]
  },
  {
   "cell_type": "code",
   "execution_count": 52,
   "id": "34a976f6",
   "metadata": {},
   "outputs": [],
   "source": [
    "Moves_df.loc[(Moves_df.piece_moved=='N'),'Piece']='Knight'\n",
    "Moves_df.loc[(Moves_df.piece_moved=='B'),'Piece']='Bishop'\n",
    "Moves_df.loc[(Moves_df.piece_moved=='Q'),'Piece']='Queen'\n",
    "Moves_df.loc[(Moves_df.piece_moved=='K'),'Piece']='King'\n",
    "Moves_df.loc[(Moves_df.piece_moved=='R'),'Piece']='Rook'"
   ]
  },
  {
   "cell_type": "code",
   "execution_count": 53,
   "id": "e6325c80",
   "metadata": {},
   "outputs": [],
   "source": [
    "Moves_df.loc[((Moves_df.piece_moved!='R') & (Moves_df.piece_moved!='K') & (Moves_df.piece_moved!='Q') & (Moves_df.piece_moved!='B') & (Moves_df.piece_moved!='N') & (Moves_df.piece_moved!='O') & (Moves_df.piece_moved!='o')),'Piece']= 'Pawn'"
   ]
  },
  {
   "cell_type": "code",
   "execution_count": 54,
   "id": "336ec468",
   "metadata": {},
   "outputs": [],
   "source": [
    "Moves_df.loc[((Moves_df.MyMoves=='O-O')| (Moves_df.MyMoves=='O-O+') ),'Piece']='O-O'\n",
    "Moves_df.loc[((Moves_df.MyMoves=='O-O-O')| (Moves_df.MyMoves=='O-O-O+')),'Piece']='O-O-O'"
   ]
  },
  {
   "cell_type": "code",
   "execution_count": 55,
   "id": "b400c7f7",
   "metadata": {},
   "outputs": [
    {
     "data": {
      "text/plain": [
       "Pawn      9980\n",
       "Knight    7546\n",
       "Bishop    6159\n",
       "Queen     5856\n",
       "Rook      4947\n",
       "King      3701\n",
       "O-O        729\n",
       "O-O-O      143\n",
       "Name: Piece, dtype: int64"
      ]
     },
     "execution_count": 55,
     "metadata": {},
     "output_type": "execute_result"
    }
   ],
   "source": [
    "Moves_df.Piece.value_counts()"
   ]
  },
  {
   "cell_type": "code",
   "execution_count": 56,
   "id": "ec9dda76",
   "metadata": {},
   "outputs": [
    {
     "name": "stdout",
     "output_type": "stream",
     "text": [
      "<class 'pandas.core.frame.DataFrame'>\n",
      "RangeIndex: 39421 entries, 0 to 39420\n",
      "Data columns (total 4 columns):\n",
      " #   Column       Non-Null Count  Dtype \n",
      "---  ------       --------------  ----- \n",
      " 0   GameID       39421 non-null  object\n",
      " 1   MyMoves      39421 non-null  object\n",
      " 2   piece_moved  39421 non-null  object\n",
      " 3   Piece        39061 non-null  object\n",
      "dtypes: object(4)\n",
      "memory usage: 1.2+ MB\n"
     ]
    }
   ],
   "source": [
    "Moves_df.info()"
   ]
  },
  {
   "cell_type": "markdown",
   "id": "4a7c1441",
   "metadata": {},
   "source": [
    "### Removing rededundancy from engineered dataframe:"
   ]
  },
  {
   "cell_type": "code",
   "execution_count": 57,
   "id": "05c6931a",
   "metadata": {},
   "outputs": [],
   "source": [
    "df.drop(columns=['MyMoves','piece_moved','Result'], inplace=True)"
   ]
  },
  {
   "cell_type": "code",
   "execution_count": 58,
   "id": "a70007bf",
   "metadata": {},
   "outputs": [],
   "source": [
    "df=df.drop_duplicates()"
   ]
  },
  {
   "cell_type": "code",
   "execution_count": 59,
   "id": "0f7efed9",
   "metadata": {},
   "outputs": [],
   "source": [
    "df.reset_index(drop= True, inplace=True)"
   ]
  },
  {
   "cell_type": "code",
   "execution_count": 60,
   "id": "1f13682a",
   "metadata": {},
   "outputs": [
    {
     "data": {
      "text/html": [
       "<div>\n",
       "<style scoped>\n",
       "    .dataframe tbody tr th:only-of-type {\n",
       "        vertical-align: middle;\n",
       "    }\n",
       "\n",
       "    .dataframe tbody tr th {\n",
       "        vertical-align: top;\n",
       "    }\n",
       "\n",
       "    .dataframe thead th {\n",
       "        text-align: right;\n",
       "    }\n",
       "</style>\n",
       "<table border=\"1\" class=\"dataframe\">\n",
       "  <thead>\n",
       "    <tr style=\"text-align: right;\">\n",
       "      <th></th>\n",
       "      <th>UTDate</th>\n",
       "      <th>Termination</th>\n",
       "      <th>MyELO</th>\n",
       "      <th>OpponentELO</th>\n",
       "      <th>Mycolor</th>\n",
       "      <th>Opponentcolor</th>\n",
       "      <th>MyResult</th>\n",
       "      <th>Opening</th>\n",
       "      <th>GameID</th>\n",
       "      <th>Timing</th>\n",
       "    </tr>\n",
       "  </thead>\n",
       "  <tbody>\n",
       "    <tr>\n",
       "      <th>0</th>\n",
       "      <td>2021.12.31</td>\n",
       "      <td>checkmate</td>\n",
       "      <td>533</td>\n",
       "      <td>516</td>\n",
       "      <td>White</td>\n",
       "      <td>Black</td>\n",
       "      <td>Won</td>\n",
       "      <td>Ruy-Lopez-Opening-Morphy-Def</td>\n",
       "      <td>34726271105</td>\n",
       "      <td>after-noon</td>\n",
       "    </tr>\n",
       "    <tr>\n",
       "      <th>1</th>\n",
       "      <td>2021.12.31</td>\n",
       "      <td>checkmate</td>\n",
       "      <td>525</td>\n",
       "      <td>507</td>\n",
       "      <td>White</td>\n",
       "      <td>Black</td>\n",
       "      <td>Lost</td>\n",
       "      <td>Kings-Pawn-Opening-Leonardis-Varia</td>\n",
       "      <td>34713070393</td>\n",
       "      <td>after-noon</td>\n",
       "    </tr>\n",
       "    <tr>\n",
       "      <th>2</th>\n",
       "      <td>2021.12.31</td>\n",
       "      <td>checkmate</td>\n",
       "      <td>534</td>\n",
       "      <td>876</td>\n",
       "      <td>White</td>\n",
       "      <td>Black</td>\n",
       "      <td>Lost</td>\n",
       "      <td>Kings-Pawn-Opening-Leonardis-Variation-2...d5</td>\n",
       "      <td>34676381219</td>\n",
       "      <td>night</td>\n",
       "    </tr>\n",
       "    <tr>\n",
       "      <th>3</th>\n",
       "      <td>2021.12.31</td>\n",
       "      <td>checkmate</td>\n",
       "      <td>536</td>\n",
       "      <td>873</td>\n",
       "      <td>Black</td>\n",
       "      <td>White</td>\n",
       "      <td>Lost</td>\n",
       "      <td>Pirc-Defense-2.d4</td>\n",
       "      <td>34675234467</td>\n",
       "      <td>night</td>\n",
       "    </tr>\n",
       "    <tr>\n",
       "      <th>4</th>\n",
       "      <td>2021.12.31</td>\n",
       "      <td>checkmate</td>\n",
       "      <td>538</td>\n",
       "      <td>527</td>\n",
       "      <td>Black</td>\n",
       "      <td>White</td>\n",
       "      <td>Won</td>\n",
       "      <td>Italian-Game-Two-Knights-Def</td>\n",
       "      <td>34673457053</td>\n",
       "      <td>night</td>\n",
       "    </tr>\n",
       "    <tr>\n",
       "      <th>...</th>\n",
       "      <td>...</td>\n",
       "      <td>...</td>\n",
       "      <td>...</td>\n",
       "      <td>...</td>\n",
       "      <td>...</td>\n",
       "      <td>...</td>\n",
       "      <td>...</td>\n",
       "      <td>...</td>\n",
       "      <td>...</td>\n",
       "      <td>...</td>\n",
       "    </tr>\n",
       "    <tr>\n",
       "      <th>1341</th>\n",
       "      <td>2023.03.02</td>\n",
       "      <td>checkmate</td>\n",
       "      <td>935</td>\n",
       "      <td>889</td>\n",
       "      <td>White</td>\n",
       "      <td>Black</td>\n",
       "      <td>Won</td>\n",
       "      <td>Scandinavian-Defense-2.e5</td>\n",
       "      <td>71464890123</td>\n",
       "      <td>evening</td>\n",
       "    </tr>\n",
       "    <tr>\n",
       "      <th>1342</th>\n",
       "      <td>2023.03.02</td>\n",
       "      <td>checkmate</td>\n",
       "      <td>928</td>\n",
       "      <td>952</td>\n",
       "      <td>Black</td>\n",
       "      <td>White</td>\n",
       "      <td>Lost</td>\n",
       "      <td>Queens-Pawn-Opening-1...d5-2.e3-e6</td>\n",
       "      <td>71463863041</td>\n",
       "      <td>evening</td>\n",
       "    </tr>\n",
       "    <tr>\n",
       "      <th>1343</th>\n",
       "      <td>2023.03.02</td>\n",
       "      <td>time</td>\n",
       "      <td>936</td>\n",
       "      <td>944</td>\n",
       "      <td>White</td>\n",
       "      <td>Black</td>\n",
       "      <td>Lost</td>\n",
       "      <td>Center-Game-Accepted-Paulsen-Berger-Varia</td>\n",
       "      <td>71462652923</td>\n",
       "      <td>evening</td>\n",
       "    </tr>\n",
       "    <tr>\n",
       "      <th>1344</th>\n",
       "      <td>2023.03.02</td>\n",
       "      <td>resignation</td>\n",
       "      <td>944</td>\n",
       "      <td>961</td>\n",
       "      <td>Black</td>\n",
       "      <td>White</td>\n",
       "      <td>Won</td>\n",
       "      <td>Pirc-Defense-2.d4</td>\n",
       "      <td>71457277723</td>\n",
       "      <td>evening</td>\n",
       "    </tr>\n",
       "    <tr>\n",
       "      <th>1345</th>\n",
       "      <td>2023.03.01</td>\n",
       "      <td>time</td>\n",
       "      <td>935</td>\n",
       "      <td>984</td>\n",
       "      <td>White</td>\n",
       "      <td>Black</td>\n",
       "      <td>Lost</td>\n",
       "      <td>French-Defense-Advance-Paulsen-Attack-5...cxd4...</td>\n",
       "      <td>71447141387</td>\n",
       "      <td>evening</td>\n",
       "    </tr>\n",
       "  </tbody>\n",
       "</table>\n",
       "<p>1346 rows × 10 columns</p>\n",
       "</div>"
      ],
      "text/plain": [
       "          UTDate  Termination  MyELO  OpponentELO Mycolor Opponentcolor  \\\n",
       "0     2021.12.31    checkmate    533          516   White         Black   \n",
       "1     2021.12.31    checkmate    525          507   White         Black   \n",
       "2     2021.12.31    checkmate    534          876   White         Black   \n",
       "3     2021.12.31    checkmate    536          873   Black         White   \n",
       "4     2021.12.31    checkmate    538          527   Black         White   \n",
       "...          ...          ...    ...          ...     ...           ...   \n",
       "1341  2023.03.02    checkmate    935          889   White         Black   \n",
       "1342  2023.03.02    checkmate    928          952   Black         White   \n",
       "1343  2023.03.02         time    936          944   White         Black   \n",
       "1344  2023.03.02  resignation    944          961   Black         White   \n",
       "1345  2023.03.01         time    935          984   White         Black   \n",
       "\n",
       "     MyResult                                            Opening       GameID  \\\n",
       "0         Won                       Ruy-Lopez-Opening-Morphy-Def  34726271105   \n",
       "1        Lost                 Kings-Pawn-Opening-Leonardis-Varia  34713070393   \n",
       "2        Lost      Kings-Pawn-Opening-Leonardis-Variation-2...d5  34676381219   \n",
       "3        Lost                                  Pirc-Defense-2.d4  34675234467   \n",
       "4         Won                       Italian-Game-Two-Knights-Def  34673457053   \n",
       "...       ...                                                ...          ...   \n",
       "1341      Won                          Scandinavian-Defense-2.e5  71464890123   \n",
       "1342     Lost                 Queens-Pawn-Opening-1...d5-2.e3-e6  71463863041   \n",
       "1343     Lost          Center-Game-Accepted-Paulsen-Berger-Varia  71462652923   \n",
       "1344      Won                                  Pirc-Defense-2.d4  71457277723   \n",
       "1345     Lost  French-Defense-Advance-Paulsen-Attack-5...cxd4...  71447141387   \n",
       "\n",
       "          Timing  \n",
       "0     after-noon  \n",
       "1     after-noon  \n",
       "2          night  \n",
       "3          night  \n",
       "4          night  \n",
       "...          ...  \n",
       "1341     evening  \n",
       "1342     evening  \n",
       "1343     evening  \n",
       "1344     evening  \n",
       "1345     evening  \n",
       "\n",
       "[1346 rows x 10 columns]"
      ]
     },
     "execution_count": 60,
     "metadata": {},
     "output_type": "execute_result"
    }
   ],
   "source": [
    "df"
   ]
  },
  {
   "cell_type": "markdown",
   "id": "997faae7",
   "metadata": {},
   "source": [
    "### Converting the engineered dataframe into csv"
   ]
  },
  {
   "cell_type": "code",
   "execution_count": 61,
   "id": "efbce1ce",
   "metadata": {},
   "outputs": [],
   "source": [
    "df.to_csv('Engineered_game_data.csv')"
   ]
  },
  {
   "cell_type": "code",
   "execution_count": 62,
   "id": "c43705c7",
   "metadata": {},
   "outputs": [],
   "source": [
    "Moves_df.to_csv('Piece_move_data.csv')"
   ]
  },
  {
   "cell_type": "code",
   "execution_count": null,
   "id": "34c84814",
   "metadata": {},
   "outputs": [],
   "source": []
  }
 ],
 "metadata": {
  "kernelspec": {
   "display_name": "Python 3 (ipykernel)",
   "language": "python",
   "name": "python3"
  },
  "language_info": {
   "codemirror_mode": {
    "name": "ipython",
    "version": 3
   },
   "file_extension": ".py",
   "mimetype": "text/x-python",
   "name": "python",
   "nbconvert_exporter": "python",
   "pygments_lexer": "ipython3",
   "version": "3.9.1"
  }
 },
 "nbformat": 4,
 "nbformat_minor": 5
}
