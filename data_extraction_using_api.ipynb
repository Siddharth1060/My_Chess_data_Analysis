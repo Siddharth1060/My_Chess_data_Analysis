{
 "cells": [
  {
   "cell_type": "code",
   "execution_count": 28,
   "id": "cf0eefec",
   "metadata": {},
   "outputs": [],
   "source": [
    "#!/usr/bin/env python\n",
    "# coding: utf-8\n",
    "\n",
    "#Import libraries\n",
    "\n",
    "import re\n",
    "import pandas as pd\n",
    "import os\n",
    "import requests\n",
    "import json\n",
    "import urllib.request\n",
    "from pathlib import Path\n"
   ]
  },
  {
   "cell_type": "code",
   "execution_count": 29,
   "id": "fd0bf035",
   "metadata": {},
   "outputs": [],
   "source": [
    "#Declare Globals\n",
    "pgnMeta = [\"Event\",\"Site\",\"Date\",\"Round\",\"White\",\"Black\",\"Result\", \\\n",
    "            \"CurrentPosition\",\"Timezone\", \"ECO\",\"ECOURL\",\"UTDate\",\"UTCTime\",\"WhiteELO\", \\\n",
    "            \"BlackELO\",\"Timecontrol\",\"Termination\",\"StartTime\",\"EndDate\",\"EndTime\",\"Link\",\"Moves\"]\n",
    "\n",
    "tgtFilePath=\"C:/Users/SIDY BOY!/Desktop/UTD/Projects/my_chess.com_data/my_game_data.csv\" #This is the path where the final CSV gets created\n",
    "moveStartLine = 22 #Moves in chess.com PGNs typically start from the 22nd line for each game\n",
    "PGNDirectory=\"C:/Users/SIDY BOY!/Desktop/UTD/Projects/my_chess.com_data/PGN\" #This is the location where the API downloads the PGNs from the archives\n",
    "user='Dope_guru' #The user for whom the script is intended to run\n"
   ]
  },
  {
   "cell_type": "code",
   "execution_count": 30,
   "id": "59237998",
   "metadata": {},
   "outputs": [],
   "source": [
    "def getPGN(user):\n",
    "    \"\"\"This function accesses the chess.com public API and downloads all the PGNs to a folder\"\"\"\n",
    "    pgn_archive_links = requests.get(\"https://api.chess.com/pub/player/\"+user+\"/games/archives\", verify=False)\n",
    "    if not os.path.exists(PGNDirectory):\n",
    "        os.makedirs(PGNDirectory)\n",
    "\n",
    "    for url in json.loads(pgn_archive_links.content)[\"archives\"]:\n",
    "        filepath = PGNDirectory + \"/\"+ url.split(\"/\")[7]+url.split(\"/\")[8]+'.pgn'\n",
    "        my_file = Path(filepath)\n",
    "        if not my_file.is_file():\n",
    "            urllib.request.urlretrieve(url+'/pgn',filepath)\n"
   ]
  },
  {
   "cell_type": "code",
   "execution_count": 31,
   "id": "a9f2814d",
   "metadata": {},
   "outputs": [],
   "source": [
    "\n",
    "def importPGNData(filepath):\n",
    "    \"\"\"This function returns the data read as a string\"\"\"\n",
    "    with open(filepath) as f:\n",
    "        return f.readlines()\n"
   ]
  },
  {
   "cell_type": "code",
   "execution_count": 32,
   "id": "58d4bb8f",
   "metadata": {},
   "outputs": [],
   "source": [
    "def getEdgePoints(data):\n",
    "    \"\"\"This function returns the start and end indices for each game in the PGN\"\"\"\n",
    "    ends=[]\n",
    "    starts=[]\n",
    "    for n,l in enumerate(data):\n",
    "        if l.startswith(\"[Event\"):\n",
    "            if n!=0:\n",
    "                ends.append(n - 1)\n",
    "            starts.append(n)\n",
    "        elif (n==len(data)-1):\n",
    "            ends.append(n)\n",
    "\n",
    "    return (starts,ends)\n"
   ]
  },
  {
   "cell_type": "code",
   "execution_count": 33,
   "id": "a3c91c62",
   "metadata": {},
   "outputs": [],
   "source": [
    "def grpGames(data, starts, ends):\n",
    "    \"\"\"This function groups games into individual lists based on the start and end index\"\"\"\n",
    "    blocks=[]\n",
    "    for i in range(len(ends)):\n",
    "        try:\n",
    "            element = data[starts[i]: ends[i]+1]\n",
    "        except:\n",
    "            print(i)\n",
    "        if element not in blocks: blocks.append(element)\n",
    "    return blocks\n"
   ]
  },
  {
   "cell_type": "code",
   "execution_count": 34,
   "id": "e044d2a5",
   "metadata": {},
   "outputs": [],
   "source": [
    "def mergeMoves(game):\n",
    "    \"\"\"This function cleans out the moves and other attributes, removes newlines and formats the list to be converted into a dictionary\"\"\"\n",
    "    firstmove=lastmove=-1\n",
    "    for n,eachrow in enumerate(game):\n",
    "                game[n]=game[n].replace('\\n','')\n",
    "                try:\n",
    "                    if n <= moveStartLine-2: game[n] = stripwhitespace(game[n]).split('~')[1].strip('][\"')\n",
    "                except:\n",
    "                    if n <= moveStartLine-4: game[n] = stripwhitespace(game[n]).split('~')[1].strip('][\"')\n",
    "                    pass\n",
    "    return list(filter(None,game))\n"
   ]
  },
  {
   "cell_type": "code",
   "execution_count": 35,
   "id": "dab65136",
   "metadata": {},
   "outputs": [],
   "source": [
    "def stripwhitespace(text):\n",
    "    lst = text.split('\"')\n",
    "    for i, item in enumerate(lst):\n",
    "        if not i % 2:\n",
    "            lst[i] = re.sub(\"\\s+\", \"~\", item)\n",
    "    return '\"'.join(lst)\n"
   ]
  },
  {
   "cell_type": "code",
   "execution_count": 36,
   "id": "975872dd",
   "metadata": {},
   "outputs": [],
   "source": [
    "def createGameDictLetsPlay(game_dict):\n",
    "    \"\"\"This is a helper function to address games under Lets Play events on chess.com. These events have a slightly different way of representation than the Live Chess events\"\"\"\n",
    "    for n, move in enumerate(game_dict[\"Moves\"].split(\" \")):\n",
    "\n",
    "        if n%3==0: #every 3rd element is the move number\n",
    "            if move == '1-0' or move=='0-1' or move=='1/2-1/2':\n",
    "                None\n",
    "            else: movenum = n\n",
    "        elif n==movenum+2:\n",
    "            if move == '1-0' or move=='0-1' or move=='1/2-1/2':\n",
    "                None\n",
    "            else: game_dict[\"whitemoves\"].append(move)\n",
    "        else:\n",
    "            if move == '1-0' or move=='0-1' or move=='1/2-1/2':\n",
    "                None\n",
    "            else: game_dict[\"blackmoves\"].append(move)\n",
    "\n",
    "    if len(game_dict[\"blackmoves\"])>len(game_dict[\"whitemoves\"]): game_dict[\"whitemoves\"].append(\"over\")\n",
    "    if len(game_dict[\"blackmoves\"])<len(game_dict[\"whitemoves\"]): game_dict[\"blackmoves\"].append(\"over\")\n",
    "    del game_dict[\"Moves\"]\n",
    "    return game_dict\n"
   ]
  },
  {
   "cell_type": "code",
   "execution_count": 37,
   "id": "84ce4a76",
   "metadata": {},
   "outputs": [],
   "source": [
    "\n",
    "def createGameDictLiveChess(game_dict):\n",
    "    \"\"\"This is a helper function to address games under Live Chess events on chess.com.\"\"\"\n",
    "    try:\n",
    "        for n, move in enumerate(game_dict[\"Moves\"].split(\" \")):\n",
    "\n",
    "            if '{' in move or '}' in move:\n",
    "                None\n",
    "            elif '.' in move:\n",
    "                movenum = int(move.split(\".\")[0])\n",
    "                if \"...\" in move:\n",
    "                    color = 'black'\n",
    "                else: color=\"white\"\n",
    "            else:\n",
    "                if color==\"white\":\n",
    "                    if move == '1-0' or move=='0-1' or move=='1/2-1/2': None\n",
    "                    else: game_dict[\"whitemoves\"].append(move)\n",
    "                else:\n",
    "                    if move == '1-0' or move=='0-1' or move=='1/2-1/2': None\n",
    "                    else: game_dict[\"blackmoves\"].append(move)\n",
    "\n",
    "        if len(game_dict[\"blackmoves\"])>len(game_dict[\"whitemoves\"]): game_dict[\"whitemoves\"].append(\"over\")\n",
    "        if len(game_dict[\"blackmoves\"])<len(game_dict[\"whitemoves\"]): game_dict[\"blackmoves\"].append(\"over\")\n",
    "        del game_dict[\"Moves\"]\n",
    "    except: pass\n",
    "\n",
    "    return game_dict\n"
   ]
  },
  {
   "cell_type": "code",
   "execution_count": 38,
   "id": "99549135",
   "metadata": {},
   "outputs": [],
   "source": [
    "def createGameDict(games):\n",
    "    allgames=[]\n",
    "    for gamenum, eachgame in enumerate(games):\n",
    "        game_dict = dict(zip(pgnMeta, eachgame))\n",
    "        movenum = 0\n",
    "        game_dict[\"whitemoves\"] = []\n",
    "        game_dict[\"blackmoves\"] = []\n",
    "        color=\"white\"\n",
    "        if game_dict[\"Event\"]==\"Let's Play!\": allgames.append(createGameDictLetsPlay(game_dict))\n",
    "        else: allgames.append(createGameDictLiveChess(game_dict))\n",
    "\n",
    "    return allgames\n"
   ]
  },
  {
   "cell_type": "code",
   "execution_count": 39,
   "id": "cf40f76d",
   "metadata": {},
   "outputs": [],
   "source": [
    "def main():\n",
    "    getPGN(user)\n",
    "    tgtFilePathObj = Path(tgtFilePath)\n",
    "    tgtFilePathObj.unlink(missing_ok=True)\n",
    "\n",
    "    with os.scandir(PGNDirectory) as pgndir:\n",
    "        for file in pgndir:\n",
    "            print('*', end =\" \")\n",
    "            data = importPGNData(file)\n",
    "\n",
    "            starts, ends = getEdgePoints(data)\n",
    "            games = grpGames(data, starts, ends)\n",
    "            games = list(map(mergeMoves, games))\n",
    "            allgames= createGameDict(games)\n",
    "\n",
    "            for gamenum, game in enumerate(allgames):\n",
    "                df = pd.DataFrame(allgames[gamenum])\n",
    "\n",
    "                with open(tgtFilePath, 'a') as f:\n",
    "                    df.to_csv(f, mode='a', header=f.tell()==0)\n",
    "    print(\"Export Complete!\")\n"
   ]
  },
  {
   "cell_type": "code",
   "execution_count": 40,
   "id": "db6accef",
   "metadata": {},
   "outputs": [
    {
     "name": "stderr",
     "output_type": "stream",
     "text": [
      "c:\\users\\sidy boy!\\appdata\\local\\programs\\python\\python39\\lib\\site-packages\\urllib3\\connectionpool.py:1013: InsecureRequestWarning: Unverified HTTPS request is being made to host 'api.chess.com'. Adding certificate verification is strongly advised. See: https://urllib3.readthedocs.io/en/1.26.x/advanced-usage.html#ssl-warnings\n",
      "  warnings.warn(\n",
      "c:\\users\\sidy boy!\\appdata\\local\\programs\\python\\python39\\lib\\site-packages\\urllib3\\connectionpool.py:1013: InsecureRequestWarning: Unverified HTTPS request is being made to host 'api.chess.com'. Adding certificate verification is strongly advised. See: https://urllib3.readthedocs.io/en/1.26.x/advanced-usage.html#ssl-warnings\n",
      "  warnings.warn(\n"
     ]
    },
    {
     "name": "stdout",
     "output_type": "stream",
     "text": [
      "* * * * * * * * * * * * * * * * Export Complete!\n"
     ]
    }
   ],
   "source": [
    "#Run Program\n",
    "main()"
   ]
  },
  {
   "cell_type": "code",
   "execution_count": null,
   "id": "b02841cb",
   "metadata": {},
   "outputs": [],
   "source": []
  }
 ],
 "metadata": {
  "kernelspec": {
   "display_name": "Python 3 (ipykernel)",
   "language": "python",
   "name": "python3"
  },
  "language_info": {
   "codemirror_mode": {
    "name": "ipython",
    "version": 3
   },
   "file_extension": ".py",
   "mimetype": "text/x-python",
   "name": "python",
   "nbconvert_exporter": "python",
   "pygments_lexer": "ipython3",
   "version": "3.9.1"
  }
 },
 "nbformat": 4,
 "nbformat_minor": 5
}
